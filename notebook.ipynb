{
 "cells": [
  {
   "cell_type": "code",
   "execution_count": 21,
   "metadata": {},
   "outputs": [],
   "source": [
    "import pandas as pd\n",
    "import matplotlib.pyplot as plt\n",
    "import seaborn as sns\n",
    "import re\n",
    "import nltk\n",
    "from nltk.corpus import stopwords\n",
    "from nltk.stem import WordNetLemmatizer\n",
    "from sklearn.feature_extraction.text import CountVectorizer\n",
    "from sklearn.model_selection import GridSearchCV, train_test_split\n",
    "from sklearn.ensemble import RandomForestClassifier\n",
    "from sklearn.metrics import accuracy_score,precision_score,recall_score,confusion_matrix,roc_curve,classification_report\n",
    "from scikitplot.metrics import plot_confusion_matrix\n",
    "from wordcloud import WordCloud\n",
    "from collections import defaultdict"
   ]
  },
  {
   "cell_type": "code",
   "execution_count": 2,
   "metadata": {},
   "outputs": [
    {
     "name": "stderr",
     "output_type": "stream",
     "text": [
      "[nltk_data] Downloading package stopwords to /home/jovyan/nltk_data...\n",
      "[nltk_data]   Package stopwords is already up-to-date!\n",
      "[nltk_data] Downloading package wordnet to /home/jovyan/nltk_data...\n",
      "[nltk_data]   Package wordnet is already up-to-date!\n",
      "[nltk_data] Downloading package omw-1.4 to /home/jovyan/nltk_data...\n",
      "[nltk_data]   Package omw-1.4 is already up-to-date!\n"
     ]
    },
    {
     "data": {
      "text/plain": [
       "True"
      ]
     },
     "execution_count": 2,
     "metadata": {},
     "output_type": "execute_result"
    }
   ],
   "source": [
    "nltk.download('stopwords')\n",
    "nltk.download('wordnet')\n",
    "nltk.download('omw-1.4')"
   ]
  },
  {
   "cell_type": "code",
   "execution_count": 3,
   "metadata": {},
   "outputs": [
    {
     "data": {
      "text/html": [
       "<div>\n",
       "<style scoped>\n",
       "    .dataframe tbody tr th:only-of-type {\n",
       "        vertical-align: middle;\n",
       "    }\n",
       "\n",
       "    .dataframe tbody tr th {\n",
       "        vertical-align: top;\n",
       "    }\n",
       "\n",
       "    .dataframe thead th {\n",
       "        text-align: right;\n",
       "    }\n",
       "</style>\n",
       "<table border=\"1\" class=\"dataframe\">\n",
       "  <thead>\n",
       "    <tr style=\"text-align: right;\">\n",
       "      <th></th>\n",
       "      <th>Column1.data.text</th>\n",
       "      <th>Emotion</th>\n",
       "    </tr>\n",
       "  </thead>\n",
       "  <tbody>\n",
       "    <tr>\n",
       "      <th>0</th>\n",
       "      <td>@RouleLaCookie @luXemusicBX @toda_pisteur Non ...</td>\n",
       "      <td>Dégoût</td>\n",
       "    </tr>\n",
       "    <tr>\n",
       "      <th>1</th>\n",
       "      <td>@YarrV @m_nguea Oui cest quand même un gros ra...</td>\n",
       "      <td>Dégoût</td>\n",
       "    </tr>\n",
       "    <tr>\n",
       "      <th>2</th>\n",
       "      <td>@salzermorrayOFF @OMjee972 @Diamarc10 @LordDos...</td>\n",
       "      <td>Colère</td>\n",
       "    </tr>\n",
       "    <tr>\n",
       "      <th>3</th>\n",
       "      <td>Booba il parle que du père de Vald mais on s'e...</td>\n",
       "      <td>Colère</td>\n",
       "    </tr>\n",
       "    <tr>\n",
       "      <th>4</th>\n",
       "      <td>@RGang972 Oui bon sachons raison garder quand ...</td>\n",
       "      <td>INCONNU</td>\n",
       "    </tr>\n",
       "    <tr>\n",
       "      <th>...</th>\n",
       "      <td>...</td>\n",
       "      <td>...</td>\n",
       "    </tr>\n",
       "    <tr>\n",
       "      <th>964</th>\n",
       "      <td>Finito booba c’est très grave https://t.co/APC...</td>\n",
       "      <td>Dégoût</td>\n",
       "    </tr>\n",
       "    <tr>\n",
       "      <th>965</th>\n",
       "      <td>@lilcamscar @nolabuche @vald_ld ça c’est vous ...</td>\n",
       "      <td>Joie</td>\n",
       "    </tr>\n",
       "    <tr>\n",
       "      <th>966</th>\n",
       "      <td>@RapAtlas_ Si Booba ne change pas de trottoir</td>\n",
       "      <td>INCONNU</td>\n",
       "    </tr>\n",
       "    <tr>\n",
       "      <th>967</th>\n",
       "      <td>Au moins il es premier lui… https://t.co/KZku8...</td>\n",
       "      <td>INCONNU</td>\n",
       "    </tr>\n",
       "    <tr>\n",
       "      <th>968</th>\n",
       "      <td>@nolabuche @TheoneMsk @vald_ld Mais frère ON P...</td>\n",
       "      <td>Colère</td>\n",
       "    </tr>\n",
       "  </tbody>\n",
       "</table>\n",
       "<p>969 rows × 2 columns</p>\n",
       "</div>"
      ],
      "text/plain": [
       "                                     Column1.data.text  Emotion\n",
       "0    @RouleLaCookie @luXemusicBX @toda_pisteur Non ...   Dégoût\n",
       "1    @YarrV @m_nguea Oui cest quand même un gros ra...   Dégoût\n",
       "2    @salzermorrayOFF @OMjee972 @Diamarc10 @LordDos...   Colère\n",
       "3    Booba il parle que du père de Vald mais on s'e...   Colère\n",
       "4    @RGang972 Oui bon sachons raison garder quand ...  INCONNU\n",
       "..                                                 ...      ...\n",
       "964  Finito booba c’est très grave https://t.co/APC...   Dégoût\n",
       "965  @lilcamscar @nolabuche @vald_ld ça c’est vous ...     Joie\n",
       "966      @RapAtlas_ Si Booba ne change pas de trottoir  INCONNU\n",
       "967  Au moins il es premier lui… https://t.co/KZku8...  INCONNU\n",
       "968  @nolabuche @TheoneMsk @vald_ld Mais frère ON P...   Colère\n",
       "\n",
       "[969 rows x 2 columns]"
      ]
     },
     "execution_count": 3,
     "metadata": {},
     "output_type": "execute_result"
    }
   ],
   "source": [
    "initial_df = pd.read_excel(\"Dataset.xlsx\", index_col=None, usecols=\"A:B\")\n",
    "initial_df"
   ]
  },
  {
   "cell_type": "code",
   "execution_count": 4,
   "metadata": {},
   "outputs": [
    {
     "data": {
      "text/plain": [
       "<AxesSubplot:xlabel='Emotion', ylabel='count'>"
      ]
     },
     "execution_count": 4,
     "metadata": {},
     "output_type": "execute_result"
    },
    {
     "data": {
      "image/png": "[encoded data removed]",
      "text/plain": [
       "<Figure size 432x288 with 1 Axes>"
      ]
     },
     "metadata": {
      "needs_background": "light"
     },
     "output_type": "display_data"
    }
   ],
   "source": [
    "sns.countplot(x=initial_df.Emotion)"
   ]
  },
  {
   "cell_type": "code",
   "execution_count": 30,
   "metadata": {},
   "outputs": [],
   "source": [
    "cleaned_df = initial_df.replace(to_replace=\"(@\\w+)|(http[a-zA-Z\\:\\/\\.]+)\", value =\"\", regex=True)\n",
    "# Remove \"peur\" because the sample size is too small\n",
    "cleaned_df = cleaned_df.replace(to_replace=\"Peur\", value = \"INCONNU\")\n",
    "def custom_encoder(df):\n",
    "    df = df.replace(to_replace =\"Surprise\", value =6)\n",
    "    df = df.replace(to_replace =\"Joie\", value =5)\n",
    "    df = df.replace(to_replace =\"Dégoût\", value =4)\n",
    "    df = df.replace(to_replace =\"Peur\", value =3)\n",
    "    df = df.replace(to_replace =\"Colère\", value =2)\n",
    "    df = df.replace(to_replace =\"Tristesse\", value =1)\n",
    "    df = df.replace(to_replace =\"INCONNU\", value =0)\n",
    "    return df\n",
    "cleaned_df = custom_encoder(cleaned_df)"
   ]
  },
  {
   "cell_type": "code",
   "execution_count": 6,
   "metadata": {},
   "outputs": [],
   "source": [
    "lm = WordNetLemmatizer()\n",
    "def text_transformation(df_col):\n",
    "    corpus = []\n",
    "    for item in df_col:\n",
    "        new_item = re.sub('[^a-zA-Z]',' ',str(item))\n",
    "        new_item = new_item.lower()\n",
    "        new_item = new_item.split()\n",
    "        new_item = [lm.lemmatize(word) for word in new_item if word not in set(stopwords.words('french'))]\n",
    "        corpus.append(' '.join(str(x) for x in new_item))\n",
    "    return corpus"
   ]
  },
  {
   "cell_type": "code",
   "execution_count": 7,
   "metadata": {},
   "outputs": [
    {
     "data": {
      "text/plain": [
       "'non booba affiche tr bonne chose ca vise suceurs vald defendent malgre daron racelard'"
      ]
     },
     "execution_count": 7,
     "metadata": {},
     "output_type": "execute_result"
    }
   ],
   "source": [
    "corpus = text_transformation(cleaned_df['Column1.data.text'])\n",
    "corpus[0]"
   ]
  },
  {
   "cell_type": "code",
   "execution_count": 8,
   "metadata": {},
   "outputs": [
    {
     "data": {
      "image/png": "[encoded data removed]",
      "text/plain": [
       "<Figure size 432x288 with 1 Axes>"
      ]
     },
     "metadata": {
      "needs_background": "light"
     },
     "output_type": "display_data"
    }
   ],
   "source": [
    "word_cloud = \"\"\n",
    "for row in corpus:\n",
    "    for word in row:\n",
    "        word_cloud+=\" \".join(word)\n",
    "wordcloud = WordCloud(width = 4000, height = 1500,background_color ='white',min_font_size = 10).generate(word_cloud)\n",
    "plt.imshow(wordcloud)\n",
    "plt.savefig(\"wordcloud.svg\")"
   ]
  },
  {
   "cell_type": "code",
   "execution_count": 35,
   "metadata": {},
   "outputs": [
    {
     "data": {
      "text/plain": [
       "<969x33305 sparse matrix of type '<class 'numpy.int64'>'\n",
       "\twith 41019 stored elements in Compressed Sparse Row format>"
      ]
     },
     "execution_count": 35,
     "metadata": {},
     "output_type": "execute_result"
    }
   ],
   "source": [
    "# To tune\n",
    "cv = CountVectorizer(ngram_range=(1,6))\n",
    "traindata = cv.fit_transform(corpus)\n",
    "X_train, X_test, y_train, y_test = train_test_split(traindata, cleaned_df['Emotion'],  test_size=0.3, random_state=1)\n",
    "traindata"
   ]
  },
  {
   "cell_type": "code",
   "execution_count": 36,
   "metadata": {},
   "outputs": [],
   "source": [
    "parameters = {'max_features': ('auto','sqrt'),\n",
    "             'n_estimators': [500, 1000, 1500],\n",
    "             'max_depth': [5, 10, None],\n",
    "             'min_samples_split': [5, 10, 15],\n",
    "             'min_samples_leaf': [1, 2, 5, 10],\n",
    "             'bootstrap': [True, False]}"
   ]
  },
  {
   "cell_type": "code",
   "execution_count": 37,
   "metadata": {},
   "outputs": [],
   "source": [
    "grid_search = GridSearchCV(RandomForestClassifier(),parameters,cv=2,return_train_score=True,n_jobs=-1)"
   ]
  },
  {
   "cell_type": "code",
   "execution_count": 38,
   "metadata": {},
   "outputs": [
    {
     "data": {
      "text/plain": [
       "GridSearchCV(cv=2, estimator=RandomForestClassifier(), n_jobs=-1,\n",
       "             param_grid={'bootstrap': [True, False], 'max_depth': [5, 10, None],\n",
       "                         'max_features': ('auto', 'sqrt'),\n",
       "                         'min_samples_leaf': [1, 2, 5, 10],\n",
       "                         'min_samples_split': [5, 10, 15],\n",
       "                         'n_estimators': [500, 1000, 1500]},\n",
       "             return_train_score=True)"
      ]
     },
     "execution_count": 38,
     "metadata": {},
     "output_type": "execute_result"
    }
   ],
   "source": [
    "grid_search.fit(X_train,y_train)"
   ]
  },
  {
   "cell_type": "code",
   "execution_count": 39,
   "metadata": {},
   "outputs": [
    {
     "data": {
      "text/plain": [
       "{'bootstrap': False,\n",
       " 'max_depth': None,\n",
       " 'max_features': 'auto',\n",
       " 'min_samples_leaf': 1,\n",
       " 'min_samples_split': 5,\n",
       " 'n_estimators': 1000}"
      ]
     },
     "execution_count": 39,
     "metadata": {},
     "output_type": "execute_result"
    }
   ],
   "source": [
    "grid_search.best_params_"
   ]
  },
  {
   "cell_type": "code",
   "execution_count": 40,
   "metadata": {},
   "outputs": [
    {
     "name": "stdout",
     "output_type": "stream",
     "text": [
      "Parameters:  {'bootstrap': True, 'max_depth': 5, 'max_features': 'auto', 'min_samples_leaf': 1, 'min_samples_split': 5, 'n_estimators': 500}\n",
      "Mean Test Score:  0.26991150442477874\n",
      "Rank:  248\n",
      "Parameters:  {'bootstrap': True, 'max_depth': 5, 'max_features': 'auto', 'min_samples_leaf': 1, 'min_samples_split': 5, 'n_estimators': 1000}\n",
      "Mean Test Score:  0.2713864306784661\n",
      "Rank:  219\n",
      "Parameters:  {'bootstrap': True, 'max_depth': 5, 'max_features': 'auto', 'min_samples_leaf': 1, 'min_samples_split': 5, 'n_estimators': 1500}\n",
      "Mean Test Score:  0.2713864306784661\n",
      "Rank:  219\n",
      "Parameters:  {'bootstrap': True, 'max_depth': 5, 'max_features': 'auto', 'min_samples_leaf': 1, 'min_samples_split': 10, 'n_estimators': 500}\n",
      "Mean Test Score:  0.26991150442477874\n",
      "Rank:  248\n",
      "Parameters:  {'bootstrap': True, 'max_depth': 5, 'max_features': 'auto', 'min_samples_leaf': 1, 'min_samples_split': 10, 'n_estimators': 1000}\n",
      "Mean Test Score:  0.26991150442477874\n",
      "Rank:  248\n",
      "Parameters:  {'bootstrap': True, 'max_depth': 5, 'max_features': 'auto', 'min_samples_leaf': 1, 'min_samples_split': 10, 'n_estimators': 1500}\n",
      "Mean Test Score:  0.2713864306784661\n",
      "Rank:  219\n",
      "Parameters:  {'bootstrap': True, 'max_depth': 5, 'max_features': 'auto', 'min_samples_leaf': 1, 'min_samples_split': 15, 'n_estimators': 500}\n",
      "Mean Test Score:  0.26991150442477874\n",
      "Rank:  248\n",
      "Parameters:  {'bootstrap': True, 'max_depth': 5, 'max_features': 'auto', 'min_samples_leaf': 1, 'min_samples_split': 15, 'n_estimators': 1000}\n",
      "Mean Test Score:  0.26991150442477874\n",
      "Rank:  248\n",
      "Parameters:  {'bootstrap': True, 'max_depth': 5, 'max_features': 'auto', 'min_samples_leaf': 1, 'min_samples_split': 15, 'n_estimators': 1500}\n",
      "Mean Test Score:  0.26991150442477874\n",
      "Rank:  248\n",
      "Parameters:  {'bootstrap': True, 'max_depth': 5, 'max_features': 'auto', 'min_samples_leaf': 2, 'min_samples_split': 5, 'n_estimators': 500}\n",
      "Mean Test Score:  0.2846607669616519\n",
      "Rank:  109\n",
      "Parameters:  {'bootstrap': True, 'max_depth': 5, 'max_features': 'auto', 'min_samples_leaf': 2, 'min_samples_split': 5, 'n_estimators': 1000}\n",
      "Mean Test Score:  0.27876106194690264\n",
      "Rank:  161\n",
      "Parameters:  {'bootstrap': True, 'max_depth': 5, 'max_features': 'auto', 'min_samples_leaf': 2, 'min_samples_split': 5, 'n_estimators': 1500}\n",
      "Mean Test Score:  0.2905604719764012\n",
      "Rank:  55\n",
      "Parameters:  {'bootstrap': True, 'max_depth': 5, 'max_features': 'auto', 'min_samples_leaf': 2, 'min_samples_split': 10, 'n_estimators': 500}\n",
      "Mean Test Score:  0.28466076696165193\n",
      "Rank:  103\n",
      "Parameters:  {'bootstrap': True, 'max_depth': 5, 'max_features': 'auto', 'min_samples_leaf': 2, 'min_samples_split': 10, 'n_estimators': 1000}\n",
      "Mean Test Score:  0.2728613569321534\n",
      "Rank:  197\n",
      "Parameters:  {'bootstrap': True, 'max_depth': 5, 'max_features': 'auto', 'min_samples_leaf': 2, 'min_samples_split': 10, 'n_estimators': 1500}\n",
      "Mean Test Score:  0.27876106194690264\n",
      "Rank:  161\n",
      "Parameters:  {'bootstrap': True, 'max_depth': 5, 'max_features': 'auto', 'min_samples_leaf': 2, 'min_samples_split': 15, 'n_estimators': 500}\n",
      "Mean Test Score:  0.27876106194690264\n",
      "Rank:  161\n",
      "Parameters:  {'bootstrap': True, 'max_depth': 5, 'max_features': 'auto', 'min_samples_leaf': 2, 'min_samples_split': 15, 'n_estimators': 1000}\n",
      "Mean Test Score:  0.28613569321533927\n",
      "Rank:  86\n",
      "Parameters:  {'bootstrap': True, 'max_depth': 5, 'max_features': 'auto', 'min_samples_leaf': 2, 'min_samples_split': 15, 'n_estimators': 1500}\n",
      "Mean Test Score:  0.2831858407079646\n",
      "Rank:  116\n",
      "Parameters:  {'bootstrap': True, 'max_depth': 5, 'max_features': 'auto', 'min_samples_leaf': 5, 'min_samples_split': 5, 'n_estimators': 500}\n",
      "Mean Test Score:  0.26991150442477874\n",
      "Rank:  248\n",
      "Parameters:  {'bootstrap': True, 'max_depth': 5, 'max_features': 'auto', 'min_samples_leaf': 5, 'min_samples_split': 5, 'n_estimators': 1000}\n",
      "Mean Test Score:  0.2713864306784661\n",
      "Rank:  219\n",
      "Parameters:  {'bootstrap': True, 'max_depth': 5, 'max_features': 'auto', 'min_samples_leaf': 5, 'min_samples_split': 5, 'n_estimators': 1500}\n",
      "Mean Test Score:  0.26991150442477874\n",
      "Rank:  248\n",
      "Parameters:  {'bootstrap': True, 'max_depth': 5, 'max_features': 'auto', 'min_samples_leaf': 5, 'min_samples_split': 10, 'n_estimators': 500}\n",
      "Mean Test Score:  0.26991150442477874\n",
      "Rank:  248\n",
      "Parameters:  {'bootstrap': True, 'max_depth': 5, 'max_features': 'auto', 'min_samples_leaf': 5, 'min_samples_split': 10, 'n_estimators': 1000}\n",
      "Mean Test Score:  0.26991150442477874\n",
      "Rank:  248\n",
      "Parameters:  {'bootstrap': True, 'max_depth': 5, 'max_features': 'auto', 'min_samples_leaf': 5, 'min_samples_split': 10, 'n_estimators': 1500}\n",
      "Mean Test Score:  0.26991150442477874\n",
      "Rank:  248\n",
      "Parameters:  {'bootstrap': True, 'max_depth': 5, 'max_features': 'auto', 'min_samples_leaf': 5, 'min_samples_split': 15, 'n_estimators': 500}\n",
      "Mean Test Score:  0.26991150442477874\n",
      "Rank:  248\n",
      "Parameters:  {'bootstrap': True, 'max_depth': 5, 'max_features': 'auto', 'min_samples_leaf': 5, 'min_samples_split': 15, 'n_estimators': 1000}\n",
      "Mean Test Score:  0.26991150442477874\n",
      "Rank:  248\n",
      "Parameters:  {'bootstrap': True, 'max_depth': 5, 'max_features': 'auto', 'min_samples_leaf': 5, 'min_samples_split': 15, 'n_estimators': 1500}\n",
      "Mean Test Score:  0.26991150442477874\n",
      "Rank:  248\n",
      "Parameters:  {'bootstrap': True, 'max_depth': 5, 'max_features': 'auto', 'min_samples_leaf': 10, 'min_samples_split': 5, 'n_estimators': 500}\n",
      "Mean Test Score:  0.26991150442477874\n",
      "Rank:  248\n",
      "Parameters:  {'bootstrap': True, 'max_depth': 5, 'max_features': 'auto', 'min_samples_leaf': 10, 'min_samples_split': 5, 'n_estimators': 1000}\n",
      "Mean Test Score:  0.26991150442477874\n",
      "Rank:  248\n",
      "Parameters:  {'bootstrap': True, 'max_depth': 5, 'max_features': 'auto', 'min_samples_leaf': 10, 'min_samples_split': 5, 'n_estimators': 1500}\n",
      "Mean Test Score:  0.26991150442477874\n",
      "Rank:  248\n",
      "Parameters:  {'bootstrap': True, 'max_depth': 5, 'max_features': 'auto', 'min_samples_leaf': 10, 'min_samples_split': 10, 'n_estimators': 500}\n",
      "Mean Test Score:  0.26991150442477874\n",
      "Rank:  248\n",
      "Parameters:  {'bootstrap': True, 'max_depth': 5, 'max_features': 'auto', 'min_samples_leaf': 10, 'min_samples_split': 10, 'n_estimators': 1000}\n",
      "Mean Test Score:  0.26991150442477874\n",
      "Rank:  248\n",
      "Parameters:  {'bootstrap': True, 'max_depth': 5, 'max_features': 'auto', 'min_samples_leaf': 10, 'min_samples_split': 10, 'n_estimators': 1500}\n",
      "Mean Test Score:  0.26991150442477874\n",
      "Rank:  248\n",
      "Parameters:  {'bootstrap': True, 'max_depth': 5, 'max_features': 'auto', 'min_samples_leaf': 10, 'min_samples_split': 15, 'n_estimators': 500}\n",
      "Mean Test Score:  0.26991150442477874\n",
      "Rank:  248\n",
      "Parameters:  {'bootstrap': True, 'max_depth': 5, 'max_features': 'auto', 'min_samples_leaf': 10, 'min_samples_split': 15, 'n_estimators': 1000}\n",
      "Mean Test Score:  0.26991150442477874\n",
      "Rank:  248\n",
      "Parameters:  {'bootstrap': True, 'max_depth': 5, 'max_features': 'auto', 'min_samples_leaf': 10, 'min_samples_split': 15, 'n_estimators': 1500}\n",
      "Mean Test Score:  0.26991150442477874\n",
      "Rank:  248\n",
      "Parameters:  {'bootstrap': True, 'max_depth': 5, 'max_features': 'sqrt', 'min_samples_leaf': 1, 'min_samples_split': 5, 'n_estimators': 500}\n",
      "Mean Test Score:  0.26991150442477874\n",
      "Rank:  248\n",
      "Parameters:  {'bootstrap': True, 'max_depth': 5, 'max_features': 'sqrt', 'min_samples_leaf': 1, 'min_samples_split': 5, 'n_estimators': 1000}\n",
      "Mean Test Score:  0.2743362831858407\n",
      "Rank:  183\n",
      "Parameters:  {'bootstrap': True, 'max_depth': 5, 'max_features': 'sqrt', 'min_samples_leaf': 1, 'min_samples_split': 5, 'n_estimators': 1500}\n",
      "Mean Test Score:  0.26843657817109146\n",
      "Rank:  425\n",
      "Parameters:  {'bootstrap': True, 'max_depth': 5, 'max_features': 'sqrt', 'min_samples_leaf': 1, 'min_samples_split': 10, 'n_estimators': 500}\n",
      "Mean Test Score:  0.26991150442477874\n",
      "Rank:  248\n",
      "Parameters:  {'bootstrap': True, 'max_depth': 5, 'max_features': 'sqrt', 'min_samples_leaf': 1, 'min_samples_split': 10, 'n_estimators': 1000}\n",
      "Mean Test Score:  0.26991150442477874\n",
      "Rank:  248\n",
      "Parameters:  {'bootstrap': True, 'max_depth': 5, 'max_features': 'sqrt', 'min_samples_leaf': 1, 'min_samples_split': 10, 'n_estimators': 1500}\n",
      "Mean Test Score:  0.26991150442477874\n",
      "Rank:  248\n",
      "Parameters:  {'bootstrap': True, 'max_depth': 5, 'max_features': 'sqrt', 'min_samples_leaf': 1, 'min_samples_split': 15, 'n_estimators': 500}\n",
      "Mean Test Score:  0.26843657817109146\n",
      "Rank:  425\n",
      "Parameters:  {'bootstrap': True, 'max_depth': 5, 'max_features': 'sqrt', 'min_samples_leaf': 1, 'min_samples_split': 15, 'n_estimators': 1000}\n",
      "Mean Test Score:  0.26991150442477874\n",
      "Rank:  248\n",
      "Parameters:  {'bootstrap': True, 'max_depth': 5, 'max_features': 'sqrt', 'min_samples_leaf': 1, 'min_samples_split': 15, 'n_estimators': 1500}\n",
      "Mean Test Score:  0.26991150442477874\n",
      "Rank:  248\n",
      "Parameters:  {'bootstrap': True, 'max_depth': 5, 'max_features': 'sqrt', 'min_samples_leaf': 2, 'min_samples_split': 5, 'n_estimators': 500}\n",
      "Mean Test Score:  0.2831858407079646\n",
      "Rank:  116\n",
      "Parameters:  {'bootstrap': True, 'max_depth': 5, 'max_features': 'sqrt', 'min_samples_leaf': 2, 'min_samples_split': 5, 'n_estimators': 1000}\n",
      "Mean Test Score:  0.2817109144542773\n",
      "Rank:  129\n",
      "Parameters:  {'bootstrap': True, 'max_depth': 5, 'max_features': 'sqrt', 'min_samples_leaf': 2, 'min_samples_split': 5, 'n_estimators': 1500}\n",
      "Mean Test Score:  0.2831858407079646\n",
      "Rank:  116\n",
      "Parameters:  {'bootstrap': True, 'max_depth': 5, 'max_features': 'sqrt', 'min_samples_leaf': 2, 'min_samples_split': 10, 'n_estimators': 500}\n",
      "Mean Test Score:  0.2817109144542773\n",
      "Rank:  129\n",
      "Parameters:  {'bootstrap': True, 'max_depth': 5, 'max_features': 'sqrt', 'min_samples_leaf': 2, 'min_samples_split': 10, 'n_estimators': 1000}\n",
      "Mean Test Score:  0.28023598820059\n",
      "Rank:  149\n",
      "Parameters:  {'bootstrap': True, 'max_depth': 5, 'max_features': 'sqrt', 'min_samples_leaf': 2, 'min_samples_split': 10, 'n_estimators': 1500}\n",
      "Mean Test Score:  0.2817109144542773\n",
      "Rank:  129\n",
      "Parameters:  {'bootstrap': True, 'max_depth': 5, 'max_features': 'sqrt', 'min_samples_leaf': 2, 'min_samples_split': 15, 'n_estimators': 500}\n",
      "Mean Test Score:  0.2802359882005899\n",
      "Rank:  158\n",
      "Parameters:  {'bootstrap': True, 'max_depth': 5, 'max_features': 'sqrt', 'min_samples_leaf': 2, 'min_samples_split': 15, 'n_estimators': 1000}\n",
      "Mean Test Score:  0.28613569321533927\n",
      "Rank:  86\n",
      "Parameters:  {'bootstrap': True, 'max_depth': 5, 'max_features': 'sqrt', 'min_samples_leaf': 2, 'min_samples_split': 15, 'n_estimators': 1500}\n",
      "Mean Test Score:  0.2831858407079646\n",
      "Rank:  116\n",
      "Parameters:  {'bootstrap': True, 'max_depth': 5, 'max_features': 'sqrt', 'min_samples_leaf': 5, 'min_samples_split': 5, 'n_estimators': 500}\n",
      "Mean Test Score:  0.26991150442477874\n",
      "Rank:  248\n",
      "Parameters:  {'bootstrap': True, 'max_depth': 5, 'max_features': 'sqrt', 'min_samples_leaf': 5, 'min_samples_split': 5, 'n_estimators': 1000}\n",
      "Mean Test Score:  0.2713864306784661\n",
      "Rank:  219\n",
      "Parameters:  {'bootstrap': True, 'max_depth': 5, 'max_features': 'sqrt', 'min_samples_leaf': 5, 'min_samples_split': 5, 'n_estimators': 1500}\n",
      "Mean Test Score:  0.26991150442477874\n",
      "Rank:  248\n",
      "Parameters:  {'bootstrap': True, 'max_depth': 5, 'max_features': 'sqrt', 'min_samples_leaf': 5, 'min_samples_split': 10, 'n_estimators': 500}\n",
      "Mean Test Score:  0.26843657817109146\n",
      "Rank:  425\n",
      "Parameters:  {'bootstrap': True, 'max_depth': 5, 'max_features': 'sqrt', 'min_samples_leaf': 5, 'min_samples_split': 10, 'n_estimators': 1000}\n",
      "Mean Test Score:  0.26991150442477874\n",
      "Rank:  248\n",
      "Parameters:  {'bootstrap': True, 'max_depth': 5, 'max_features': 'sqrt', 'min_samples_leaf': 5, 'min_samples_split': 10, 'n_estimators': 1500}\n",
      "Mean Test Score:  0.26991150442477874\n",
      "Rank:  248\n",
      "Parameters:  {'bootstrap': True, 'max_depth': 5, 'max_features': 'sqrt', 'min_samples_leaf': 5, 'min_samples_split': 15, 'n_estimators': 500}\n",
      "Mean Test Score:  0.26991150442477874\n",
      "Rank:  248\n",
      "Parameters:  {'bootstrap': True, 'max_depth': 5, 'max_features': 'sqrt', 'min_samples_leaf': 5, 'min_samples_split': 15, 'n_estimators': 1000}\n",
      "Mean Test Score:  0.26991150442477874\n",
      "Rank:  248\n",
      "Parameters:  {'bootstrap': True, 'max_depth': 5, 'max_features': 'sqrt', 'min_samples_leaf': 5, 'min_samples_split': 15, 'n_estimators': 1500}\n",
      "Mean Test Score:  0.26991150442477874\n",
      "Rank:  248\n",
      "Parameters:  {'bootstrap': True, 'max_depth': 5, 'max_features': 'sqrt', 'min_samples_leaf': 10, 'min_samples_split': 5, 'n_estimators': 500}\n",
      "Mean Test Score:  0.26991150442477874\n",
      "Rank:  248\n",
      "Parameters:  {'bootstrap': True, 'max_depth': 5, 'max_features': 'sqrt', 'min_samples_leaf': 10, 'min_samples_split': 5, 'n_estimators': 1000}\n",
      "Mean Test Score:  0.26991150442477874\n",
      "Rank:  248\n",
      "Parameters:  {'bootstrap': True, 'max_depth': 5, 'max_features': 'sqrt', 'min_samples_leaf': 10, 'min_samples_split': 5, 'n_estimators': 1500}\n",
      "Mean Test Score:  0.26991150442477874\n",
      "Rank:  248\n",
      "Parameters:  {'bootstrap': True, 'max_depth': 5, 'max_features': 'sqrt', 'min_samples_leaf': 10, 'min_samples_split': 10, 'n_estimators': 500}\n",
      "Mean Test Score:  0.26991150442477874\n",
      "Rank:  248\n",
      "Parameters:  {'bootstrap': True, 'max_depth': 5, 'max_features': 'sqrt', 'min_samples_leaf': 10, 'min_samples_split': 10, 'n_estimators': 1000}\n",
      "Mean Test Score:  0.26991150442477874\n",
      "Rank:  248\n",
      "Parameters:  {'bootstrap': True, 'max_depth': 5, 'max_features': 'sqrt', 'min_samples_leaf': 10, 'min_samples_split': 10, 'n_estimators': 1500}\n",
      "Mean Test Score:  0.26991150442477874\n",
      "Rank:  248\n",
      "Parameters:  {'bootstrap': True, 'max_depth': 5, 'max_features': 'sqrt', 'min_samples_leaf': 10, 'min_samples_split': 15, 'n_estimators': 500}\n",
      "Mean Test Score:  0.26991150442477874\n",
      "Rank:  248\n",
      "Parameters:  {'bootstrap': True, 'max_depth': 5, 'max_features': 'sqrt', 'min_samples_leaf': 10, 'min_samples_split': 15, 'n_estimators': 1000}\n",
      "Mean Test Score:  0.26991150442477874\n",
      "Rank:  248\n",
      "Parameters:  {'bootstrap': True, 'max_depth': 5, 'max_features': 'sqrt', 'min_samples_leaf': 10, 'min_samples_split': 15, 'n_estimators': 1500}\n",
      "Mean Test Score:  0.26991150442477874\n",
      "Rank:  248\n",
      "Parameters:  {'bootstrap': True, 'max_depth': 10, 'max_features': 'auto', 'min_samples_leaf': 1, 'min_samples_split': 5, 'n_estimators': 500}\n",
      "Mean Test Score:  0.2743362831858407\n",
      "Rank:  183\n",
      "Parameters:  {'bootstrap': True, 'max_depth': 10, 'max_features': 'auto', 'min_samples_leaf': 1, 'min_samples_split': 5, 'n_estimators': 1000}\n",
      "Mean Test Score:  0.2743362831858407\n",
      "Rank:  183\n",
      "Parameters:  {'bootstrap': True, 'max_depth': 10, 'max_features': 'auto', 'min_samples_leaf': 1, 'min_samples_split': 5, 'n_estimators': 1500}\n",
      "Mean Test Score:  0.2728613569321534\n",
      "Rank:  197\n",
      "Parameters:  {'bootstrap': True, 'max_depth': 10, 'max_features': 'auto', 'min_samples_leaf': 1, 'min_samples_split': 10, 'n_estimators': 500}\n",
      "Mean Test Score:  0.27728613569321536\n",
      "Rank:  173\n",
      "Parameters:  {'bootstrap': True, 'max_depth': 10, 'max_features': 'auto', 'min_samples_leaf': 1, 'min_samples_split': 10, 'n_estimators': 1000}\n",
      "Mean Test Score:  0.275811209439528\n",
      "Rank:  178\n",
      "Parameters:  {'bootstrap': True, 'max_depth': 10, 'max_features': 'auto', 'min_samples_leaf': 1, 'min_samples_split': 10, 'n_estimators': 1500}\n",
      "Mean Test Score:  0.2728613569321534\n",
      "Rank:  197\n",
      "Parameters:  {'bootstrap': True, 'max_depth': 10, 'max_features': 'auto', 'min_samples_leaf': 1, 'min_samples_split': 15, 'n_estimators': 500}\n",
      "Mean Test Score:  0.2743362831858407\n",
      "Rank:  183\n",
      "Parameters:  {'bootstrap': True, 'max_depth': 10, 'max_features': 'auto', 'min_samples_leaf': 1, 'min_samples_split': 15, 'n_estimators': 1000}\n",
      "Mean Test Score:  0.2743362831858407\n",
      "Rank:  183\n",
      "Parameters:  {'bootstrap': True, 'max_depth': 10, 'max_features': 'auto', 'min_samples_leaf': 1, 'min_samples_split': 15, 'n_estimators': 1500}\n",
      "Mean Test Score:  0.275811209439528\n",
      "Rank:  178\n",
      "Parameters:  {'bootstrap': True, 'max_depth': 10, 'max_features': 'auto', 'min_samples_leaf': 2, 'min_samples_split': 5, 'n_estimators': 500}\n",
      "Mean Test Score:  0.27728613569321536\n",
      "Rank:  173\n",
      "Parameters:  {'bootstrap': True, 'max_depth': 10, 'max_features': 'auto', 'min_samples_leaf': 2, 'min_samples_split': 5, 'n_estimators': 1000}\n",
      "Mean Test Score:  0.27876106194690264\n",
      "Rank:  161\n",
      "Parameters:  {'bootstrap': True, 'max_depth': 10, 'max_features': 'auto', 'min_samples_leaf': 2, 'min_samples_split': 5, 'n_estimators': 1500}\n",
      "Mean Test Score:  0.28761061946902655\n",
      "Rank:  73\n",
      "Parameters:  {'bootstrap': True, 'max_depth': 10, 'max_features': 'auto', 'min_samples_leaf': 2, 'min_samples_split': 10, 'n_estimators': 500}\n",
      "Mean Test Score:  0.28761061946902655\n",
      "Rank:  73\n",
      "Parameters:  {'bootstrap': True, 'max_depth': 10, 'max_features': 'auto', 'min_samples_leaf': 2, 'min_samples_split': 10, 'n_estimators': 1000}\n",
      "Mean Test Score:  0.29056047197640117\n",
      "Rank:  60\n",
      "Parameters:  {'bootstrap': True, 'max_depth': 10, 'max_features': 'auto', 'min_samples_leaf': 2, 'min_samples_split': 10, 'n_estimators': 1500}\n",
      "Mean Test Score:  0.28023598820059\n",
      "Rank:  149\n",
      "Parameters:  {'bootstrap': True, 'max_depth': 10, 'max_features': 'auto', 'min_samples_leaf': 2, 'min_samples_split': 15, 'n_estimators': 500}\n",
      "Mean Test Score:  0.28908554572271383\n",
      "Rank:  66\n",
      "Parameters:  {'bootstrap': True, 'max_depth': 10, 'max_features': 'auto', 'min_samples_leaf': 2, 'min_samples_split': 15, 'n_estimators': 1000}\n",
      "Mean Test Score:  0.2890855457227139\n",
      "Rank:  64\n",
      "Parameters:  {'bootstrap': True, 'max_depth': 10, 'max_features': 'auto', 'min_samples_leaf': 2, 'min_samples_split': 15, 'n_estimators': 1500}\n",
      "Mean Test Score:  0.2817109144542773\n",
      "Rank:  129\n",
      "Parameters:  {'bootstrap': True, 'max_depth': 10, 'max_features': 'auto', 'min_samples_leaf': 5, 'min_samples_split': 5, 'n_estimators': 500}\n",
      "Mean Test Score:  0.26991150442477874\n",
      "Rank:  248\n",
      "Parameters:  {'bootstrap': True, 'max_depth': 10, 'max_features': 'auto', 'min_samples_leaf': 5, 'min_samples_split': 5, 'n_estimators': 1000}\n",
      "Mean Test Score:  0.2713864306784661\n",
      "Rank:  219\n",
      "Parameters:  {'bootstrap': True, 'max_depth': 10, 'max_features': 'auto', 'min_samples_leaf': 5, 'min_samples_split': 5, 'n_estimators': 1500}\n",
      "Mean Test Score:  0.26991150442477874\n",
      "Rank:  248\n",
      "Parameters:  {'bootstrap': True, 'max_depth': 10, 'max_features': 'auto', 'min_samples_leaf': 5, 'min_samples_split': 10, 'n_estimators': 500}\n",
      "Mean Test Score:  0.26991150442477874\n",
      "Rank:  248\n",
      "Parameters:  {'bootstrap': True, 'max_depth': 10, 'max_features': 'auto', 'min_samples_leaf': 5, 'min_samples_split': 10, 'n_estimators': 1000}\n",
      "Mean Test Score:  0.26991150442477874\n",
      "Rank:  248\n",
      "Parameters:  {'bootstrap': True, 'max_depth': 10, 'max_features': 'auto', 'min_samples_leaf': 5, 'min_samples_split': 10, 'n_estimators': 1500}\n",
      "Mean Test Score:  0.26991150442477874\n",
      "Rank:  248\n",
      "Parameters:  {'bootstrap': True, 'max_depth': 10, 'max_features': 'auto', 'min_samples_leaf': 5, 'min_samples_split': 15, 'n_estimators': 500}\n",
      "Mean Test Score:  0.26991150442477874\n",
      "Rank:  248\n",
      "Parameters:  {'bootstrap': True, 'max_depth': 10, 'max_features': 'auto', 'min_samples_leaf': 5, 'min_samples_split': 15, 'n_estimators': 1000}\n",
      "Mean Test Score:  0.26991150442477874\n",
      "Rank:  248\n",
      "Parameters:  {'bootstrap': True, 'max_depth': 10, 'max_features': 'auto', 'min_samples_leaf': 5, 'min_samples_split': 15, 'n_estimators': 1500}\n",
      "Mean Test Score:  0.26991150442477874\n",
      "Rank:  248\n",
      "Parameters:  {'bootstrap': True, 'max_depth': 10, 'max_features': 'auto', 'min_samples_leaf': 10, 'min_samples_split': 5, 'n_estimators': 500}\n",
      "Mean Test Score:  0.26991150442477874\n",
      "Rank:  248\n"
     ]
    }
   ],
   "source": [
    "#Check on 100-entries sample\n",
    "for i in range(100):\n",
    "    print('Parameters: ',grid_search.cv_results_['params'][i])\n",
    "    print('Mean Test Score: ',grid_search.cv_results_['mean_test_score'][i])\n",
    "    print('Rank: ',grid_search.cv_results_['rank_test_score'][i])"
   ]
  },
  {
   "cell_type": "code",
   "execution_count": 41,
   "metadata": {},
   "outputs": [
    {
     "data": {
      "text/plain": [
       "RandomForestClassifier(bootstrap=False, min_samples_split=5, n_estimators=1000)"
      ]
     },
     "execution_count": 41,
     "metadata": {},
     "output_type": "execute_result"
    }
   ],
   "source": [
    "rfc = RandomForestClassifier(max_features=grid_search.best_params_['max_features'],\n",
    "                                      max_depth=grid_search.best_params_['max_depth'],\n",
    "                                      n_estimators=grid_search.best_params_['n_estimators'],\n",
    "                                      min_samples_split=grid_search.best_params_['min_samples_split'],\n",
    "                                      min_samples_leaf=grid_search.best_params_['min_samples_leaf'],\n",
    "                                      bootstrap=grid_search.best_params_['bootstrap'])\n",
    "rfc.fit(X_train,y_train)"
   ]
  },
  {
   "cell_type": "code",
   "execution_count": 42,
   "metadata": {},
   "outputs": [],
   "source": [
    "test_df = custom_encoder(y_test)\n",
    "#pre-processing of text\n",
    "test_corpus = text_transformation(X_test)\n",
    "#convert text data into vectors\n",
    "testdata = cv.transform(test_corpus)\n",
    "#predict the target\n",
    "predictions = rfc.predict(testdata)"
   ]
  },
  {
   "cell_type": "code",
   "execution_count": 47,
   "metadata": {},
   "outputs": [
    {
     "data": {
      "text/plain": [
       "<291x33305 sparse matrix of type '<class 'numpy.int64'>'\n",
       "\twith 11520 stored elements in Compressed Sparse Row format>"
      ]
     },
     "execution_count": 47,
     "metadata": {},
     "output_type": "execute_result"
    }
   ],
   "source": [
    "X_test"
   ]
  },
  {
   "cell_type": "code",
   "execution_count": null,
   "metadata": {},
   "outputs": [],
   "source": []
  }
 ],
 "metadata": {
  "interpreter": {
   "hash": "949777d72b0d2535278d3dc13498b2535136f6dfe0678499012e853ee9abcab1"
  },
  "kernelspec": {
   "display_name": "Python 3 (ipykernel)",
   "language": "python",
   "name": "python3"
  },
  "language_info": {
   "codemirror_mode": {
    "name": "ipython",
    "version": 3
   },
   "file_extension": ".py",
   "mimetype": "text/x-python",
   "name": "python",
   "nbconvert_exporter": "python",
   "pygments_lexer": "ipython3",
   "version": "3.9.10"
  }
 },
 "nbformat": 4,
 "nbformat_minor": 4
}
